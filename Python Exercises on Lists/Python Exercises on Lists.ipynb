{
 "cells": [
  {
   "cell_type": "markdown",
   "metadata": {},
   "source": [
    "<h1>-------------------- Python Exercises on Lists --------------------</h1>"
   ]
  },
  {
   "cell_type": "markdown",
   "metadata": {},
   "source": [
    "<h1>Exercise 3-1: Names</h1>\n",
    "<h3>Task:</h3> \n",
    "Store the names of a few of your friends in a list called names. Print each person’s\n",
    "name by accessing each element in the list, one at a time."
   ]
  },
  {
   "cell_type": "code",
   "execution_count": 1,
   "metadata": {},
   "outputs": [
    {
     "name": "stdout",
     "output_type": "stream",
     "text": [
      "Ali\n",
      "Ahmad\n",
      "Mohtasham\n",
      "Hassan\n",
      "Hussain\n"
     ]
    }
   ],
   "source": [
    "names = ['Ali','Ahmad','Mohtasham','Hassan','Hussain']\n",
    "print(names[0])\n",
    "print(names[1])\n",
    "print(names[2])\n",
    "print(names[3])\n",
    "print(names[4])\n"
   ]
  },
  {
   "cell_type": "markdown",
   "metadata": {},
   "source": [
    "<h1>Exercise 3-2: Greetings</h1>\n",
    "<h3>Task:</h3>\n",
    "Start with the list you used in Exercise 3-1. Instead of just printing each person’s\n",
    "name, print a message to them. The text of each message should be the same, but each\n",
    "message should be personalized with the person’s name."
   ]
  },
  {
   "cell_type": "code",
   "execution_count": 2,
   "metadata": {},
   "outputs": [
    {
     "name": "stdout",
     "output_type": "stream",
     "text": [
      "Ali  What Are You Doing? \n",
      "Ahmad  What Are You Doing? \n",
      "Mohtasham  What Are You Doing? \n",
      "Hassan  What Are You Doing? \n",
      "Hussain  What Are You Doing? \n",
      "\n",
      "---- Or ----\n",
      "\n",
      "Hey Ali, let's catch up soon!\n",
      "Hi Ahmad, how's everything going?\n",
      "Hello Mohtasham, I hope you're doing well!\n",
      "Hey Hassan, it was great seeing you last week!\n",
      "Hi Hussain, let's plan something fun this weekend!\n",
      "\n",
      "---- Or ----\n",
      "\n",
      "Hello, Ali! Let's catch up soon!\n",
      "Hi, Ahmad! How's everything going?\n",
      "Hello, Mohtasham! I hope you're doing well!\n",
      "Hey, Hassan! It was great seeing you last week!\n",
      "Hi, Hussain! Let's plan something fun this weekend!\n"
     ]
    }
   ],
   "source": [
    "message = \" What Are You Doing? \"\n",
    "print(names[0],message)\n",
    "print(names[1],message)\n",
    "print(names[2],message)\n",
    "print(names[3],message)\n",
    "print(names[4],message)\n",
    "print(\"\\n---- Or ----\\n\")\n",
    "print(\"Hey \" + names[0] + \", let's catch up soon!\")\n",
    "print(\"Hi \" + names[1] + \", how's everything going?\")\n",
    "print(\"Hello \" + names[2] + \", I hope you're doing well!\")\n",
    "print(\"Hey \" + names[3] + \", it was great seeing you last week!\")\n",
    "print(\"Hi \" + names[4] + \", let's plan something fun this weekend!\")\n",
    "print(\"\\n---- Or ----\\n\")\n",
    "print(f\"Hello, {names[0]}! Let's catch up soon!\")\n",
    "print(f\"Hi, {names[1]}! How's everything going?\")\n",
    "print(f\"Hello, {names[2]}! I hope you're doing well!\")\n",
    "print(f\"Hey, {names[3]}! It was great seeing you last week!\")\n",
    "print(f\"Hi, {names[4]}! Let's plan something fun this weekend!\")\n"
   ]
  },
  {
   "cell_type": "markdown",
   "metadata": {},
   "source": [
    "<h1>Exercise 3-3: Your Own List</h1>\n",
    "<h3>Task:</h3>\n",
    "Think of your favorite mode of transportation, such as a motorcycle or a car, and\n",
    "make a list that stores several examples. Use your list to print a series of statements\n",
    "about these items, such as “I would like to own a Honda motorcycle.”"
   ]
  },
  {
   "cell_type": "code",
   "execution_count": 3,
   "metadata": {},
   "outputs": [
    {
     "name": "stdout",
     "output_type": "stream",
     "text": [
      "I Like Honda Motorcycle\n",
      "I Like Tesla Car\n",
      "I Like AirBlue Flight\n"
     ]
    }
   ],
   "source": [
    "transportation = ['Honda','Tesla','AirBlue']\n",
    "print(f\"I Like {transportation[0]} Motorcycle\")\n",
    "print(f\"I Like {transportation[1]} Car\")\n",
    "print(f\"I Like {transportation[2]} Flight\")"
   ]
  },
  {
   "cell_type": "markdown",
   "metadata": {},
   "source": [
    "<h1>Exercise 3-4: Guest List</h1>\n",
    "<h3>Task:</h3>\n",
    "If you could invite anyone, living or deceased, to dinner, who would you invite?\n",
    "Make a list that includes at least three people you’d like to invite to dinner. Then use your\n",
    "list to print a message to each person, inviting them to dinner."
   ]
  },
  {
   "cell_type": "code",
   "execution_count": 4,
   "metadata": {},
   "outputs": [
    {
     "name": "stdout",
     "output_type": "stream",
     "text": [
      "Dear Imran Khan, I would be honored to have you join me for dinner.\n",
      "Dear Morro, I will happy to have dinner with you.\n",
      "Dear Dr Rayees Ahmad, I was amazed to have dinner with you\n"
     ]
    }
   ],
   "source": [
    "dinner = ['Imran Khan','Morro','Dr Rayees Ahmad']\n",
    "print(f\"Dear {dinner[0]}, I would be honored to have you join me for dinner.\")\n",
    "print(f\"Dear {dinner[1]}, I will happy to have dinner with you.\")\n",
    "print(f\"Dear {dinner[2]}, I was amazed to have dinner with you\")\n"
   ]
  },
  {
   "cell_type": "markdown",
   "metadata": {},
   "source": [
    "<h1>Exercise 3-5: Changing Guest List</h1>\n",
    "<h3>Task:</h3>\n",
    "Start with your program from Exercise 3-4. Add a print() call at the end of your\n",
    "program, stating the name of the guest who can’t make it. Modify your list, replacing the\n",
    "\n",
    "name of the guest who can’t make it with the name of the new person you are inviting.\n",
    "Print a second set of invitation messages, one for each person who is still in your list."
   ]
  },
  {
   "cell_type": "code",
   "execution_count": 5,
   "metadata": {},
   "outputs": [
    {
     "name": "stdout",
     "output_type": "stream",
     "text": [
      "We cannot make it with Morro\n",
      "\n",
      "---- Dinner With ----\n",
      "\n",
      "Dear Imran Khan, I would be honored to have you join me for dinner.\n",
      "Dear Gohar Sahab, I will happy to have dinner with you.\n",
      "Dear Dr Rayees Ahmad, I was amazed to have dinner with you\n"
     ]
    }
   ],
   "source": [
    "print (f\"We cannot make it with {dinner[1]}\")\n",
    "dinner[1]= \"Gohar Sahab\"\n",
    "print(\"\\n---- Dinner With ----\\n\")\n",
    "print(f\"Dear {dinner[0]}, I would be honored to have you join me for dinner.\")\n",
    "print(f\"Dear {dinner[1]}, I will happy to have dinner with you.\")\n",
    "print(f\"Dear {dinner[2]}, I was amazed to have dinner with you\")\n"
   ]
  },
  {
   "cell_type": "markdown",
   "metadata": {},
   "source": [
    "<h1>Exercise 3-6: More Guests</h1>\n",
    "<h3>Task:</h3>\n",
    "Start with your program from Exercise 3-4 or 3-5. Add a print() call to the end\n",
    "of your program, informing people that you found a bigger table. Use insert() to add\n",
    "one new guest to the beginning of your list. Use insert() to add one new guest to the\n",
    "middle of your list. Use append() to add one new guest to the end of your list. Print a\n",
    "new set of invitation messages, one for each person in your list.\n"
   ]
  },
  {
   "cell_type": "code",
   "execution_count": 6,
   "metadata": {},
   "outputs": [
    {
     "name": "stdout",
     "output_type": "stream",
     "text": [
      "I found a bigger table.\n",
      "['Arshad Nadeem', 'Imran Khan', 'Qamar', 'Gohar Sahab', 'Dr Rayees Ahmad', 'Junaid']\n",
      "------------------------------\n",
      "Dear Arshad Nadeem, I would be honored to have you join me for dinner.\n",
      "Dear Imran Khan, I will happy to have dinner with you.\n",
      "Dear Qamar, I was amazed to have dinner with you\n",
      "Dear Gohar Sahab, I would be honored to have you join me for dinner.\n",
      "Dear Dr Rayees Ahmad, I will happy to have dinner with you.\n",
      "Dear Junaid, I was amazed to have dinner with you\n"
     ]
    }
   ],
   "source": [
    "print(\"I found a bigger table.\")\n",
    "dinner.insert(0,\"Arshad Nadeem\")\n",
    "middle:int = int(len(dinner)/2)\n",
    "dinner.insert(middle,\"Qamar\")\n",
    "dinner.append(\"Junaid\")\n",
    "print(dinner)\n",
    "print(\"------------------------------\")\n",
    "print(f\"Dear {dinner[0]}, I would be honored to have you join me for dinner.\")\n",
    "print(f\"Dear {dinner[1]}, I will happy to have dinner with you.\")\n",
    "print(f\"Dear {dinner[2]}, I was amazed to have dinner with you\")\n",
    "print(f\"Dear {dinner[3]}, I would be honored to have you join me for dinner.\")\n",
    "print(f\"Dear {dinner[4]}, I will happy to have dinner with you.\")\n",
    "print(f\"Dear {dinner[5]}, I was amazed to have dinner with you\")\n"
   ]
  },
  {
   "cell_type": "markdown",
   "metadata": {},
   "source": [
    "<h1>Exercise 3-7: Shrinking Guest List</h1>\n",
    "<h3>Task:</h3>\n",
    "Start with your program from Exercise 3-6. Add a new line that prints a message\n",
    "saying that you can invite only two people for dinner. Use pop() to remove guests from\n",
    "your list one at a time until only two names remain in your list. Each time you pop a\n",
    "name from your list, print a message to that person letting them know you’re sorry you\n",
    "can’t invite them to dinner. Print a message to each of the two people still on your list,\n",
    "letting them know they’re still invited. Use del to remove the last two names from your\n",
    "list, so you have an empty list. Print your list to make sure you actually have an empty\n",
    "list at the end of your program."
   ]
  },
  {
   "cell_type": "code",
   "execution_count": 7,
   "metadata": {},
   "outputs": [
    {
     "name": "stdout",
     "output_type": "stream",
     "text": [
      "I can invite only two people for dinner.\n",
      "Sorry Junaid , I cannot invite you for dinner\n",
      "Sorry Dr Rayees Ahmad , I cannot invite you for dinner\n",
      "Sorry Gohar Sahab , I cannot invite you for dinner\n",
      "Sorry Qamar , I cannot invite you for dinner\n",
      "Arshad Nadeem is still invited for dinner\n",
      "Imran Khan is still invited for dinner\n",
      "List Becomes :  []\n"
     ]
    }
   ],
   "source": [
    "\n",
    "print(\"I can invite only two people for dinner.\")\n",
    "print(f\"Sorry {dinner.pop()} , I cannot invite you for dinner\")\n",
    "print(f\"Sorry {dinner.pop()} , I cannot invite you for dinner\")\n",
    "print(f\"Sorry {dinner.pop()} , I cannot invite you for dinner\")\n",
    "print(f\"Sorry {dinner.pop()} , I cannot invite you for dinner\")\n",
    "\n",
    "print(f\"{dinner[0]} is still invited for dinner\")\n",
    "print(f\"{dinner[1]} is still invited for dinner\")\n",
    "\n",
    "del dinner[0]\n",
    "del dinner[0]\n",
    "\n",
    "print(\"List Becomes : \",dinner)\n"
   ]
  },
  {
   "cell_type": "markdown",
   "metadata": {},
   "source": [
    "<h1>Exercise 3-8: Seeing the World</h1>\n",
    "<h3>Task:</h3>\n",
    "Think of at least five places in the world you’d like to visit. Store the locations in a\n",
    "list. Make sure the list is not in alphabetical order. Print your list in its original order. Don’t\n",
    "worry about printing the list neatly; just print it as a raw Python list. Use sorted() to\n",
    "print your list in alphabetical order without modifying the actual list. Show that your list is\n",
    "still in its original order by printing it. Use sorted() to print your list in\n",
    "reverse-alphabetical order without changing the order of the original list. Show that your\n",
    "list is still in its original order by printing it again. Use reverse() to change the order of\n",
    "your list. Print the list to show that its order has changed. Use reverse() to change the\n",
    "order of your list again. Print the list to show it’s back to its original order. Use sort() to\n",
    "change your list so it’s stored in alphabetical order. Print the list to show that its order\n",
    "\n",
    "has been changed. Use sort() to change your list so it’s stored in reverse-alphabetical\n",
    "order. Print the list to show that its order has changed."
   ]
  },
  {
   "cell_type": "code",
   "execution_count": 8,
   "metadata": {},
   "outputs": [
    {
     "name": "stdout",
     "output_type": "stream",
     "text": [
      "Original :  ['Pakistan', 'America', 'India', 'France', 'Turkey']\n",
      "\n",
      "\n",
      "Alphabetical order :  ['America', 'France', 'India', 'Pakistan', 'Turkey']\n",
      "\n",
      "\n",
      "Original :  ['Pakistan', 'America', 'India', 'France', 'Turkey']\n",
      "\n",
      "\n",
      "Reverse-alphabetical order :  ['Turkey', 'Pakistan', 'India', 'France', 'America']\n",
      "\n",
      "\n",
      "Original :  ['Pakistan', 'America', 'India', 'France', 'Turkey']\n",
      "Reversed one :  ['Turkey', 'France', 'India', 'America', 'Pakistan']\n",
      "Reverse Again :  ['Pakistan', 'America', 'India', 'France', 'Turkey']\n",
      "Original :  ['Pakistan', 'America', 'India', 'France', 'Turkey']\n",
      "\n",
      "\n",
      "Sort :  ['America', 'France', 'India', 'Pakistan', 'Turkey']\n",
      "Sort Again in Reverse :  ['Turkey', 'Pakistan', 'India', 'France', 'America']\n"
     ]
    }
   ],
   "source": [
    "location = ['Pakistan','America','India','France','Turkey']\n",
    "print('Original : ',location)\n",
    "print('\\n')\n",
    "print('Alphabetical order : ',sorted(location))\n",
    "print('\\n')\n",
    "print('Original : ',location)\n",
    "print('\\n')\n",
    "print('Reverse-alphabetical order : ',sorted(location,reverse = True))\n",
    "print('\\n')\n",
    "print('Original : ',location)\n",
    "location.reverse()\n",
    "print('Reversed one : ',location)\n",
    "location.reverse()\n",
    "print('Reverse Again : ',location)\n",
    "print('Original : ',location)\n",
    "print('\\n')\n",
    "location.sort()\n",
    "print('Sort : ',location)\n",
    "location.sort(reverse=True)\n",
    "print('Sort Again in Reverse : ',location)\n",
    "\n",
    "\n",
    "\n"
   ]
  },
  {
   "cell_type": "markdown",
   "metadata": {},
   "source": [
    "<h1>Exercise 3-9: Every Function</h1>\n",
    "<h3>Task:</h3>\n",
    "Think of things you could store in a list. For example, you could make a list of\n",
    "mountains, rivers, countries, cities, languages, or anything else you’d like. Write a\n",
    "program that creates a list containing these items and then uses each function\n",
    "introduced in this chapter at least once."
   ]
  },
  {
   "cell_type": "code",
   "execution_count": 9,
   "metadata": {},
   "outputs": [
    {
     "name": "stdout",
     "output_type": "stream",
     "text": [
      "Original One :  ['Urdu', 'English', 'English', 'Hindi', 'Punjabi']\n",
      "After Append it becomes ['Urdu', 'English', 'English', 'Hindi', 'Punjabi', 'French']\n",
      "Original One :  ['Urdu', 'English', 'English', 'Hindi', 'Punjabi', 'French']\n",
      "Copy One :  ['Urdu', 'English', 'English', 'Hindi', 'Punjabi', 'French']\n",
      "Count of Urdu is :  1\n",
      "Index of English is :  1\n",
      "After Insert Pashto it becomes :  ['Urdu', 'English', 'Pashto', 'English', 'Hindi', 'Punjabi', 'French']\n",
      "Popped Element is :  French\n",
      "Original One :  ['Urdu', 'English', 'Pashto', 'English', 'Hindi', 'Punjabi']\n",
      "After REmove :  ['Urdu', 'Pashto', 'English', 'Hindi', 'Punjabi']\n",
      "After Reverse :  ['Punjabi', 'Hindi', 'English', 'Pashto', 'Urdu']\n",
      "After Reverse :  ['English', 'Hindi', 'Pashto', 'Punjabi', 'Urdu']\n",
      "After sort in Reverse :  ['Urdu', 'Punjabi', 'Pashto', 'Hindi', 'English']\n",
      "After Extend :  ['Urdu', 'Punjabi', 'Pashto', 'Hindi', 'English', 'Urdu', 'English', 'English', 'Hindi', 'Punjabi', 'French']\n",
      "After Clear :  []\n"
     ]
    }
   ],
   "source": [
    "languages = ['Urdu','English','English','Hindi','Punjabi']\n",
    "print(\"Original One : \",languages)\n",
    "languages.append('French')\n",
    "print('After Append it becomes',languages)\n",
    "SameLanguage=languages.copy()\n",
    "print(\"Original One : \",languages)\n",
    "print('Copy One : ',SameLanguage)\n",
    "print('Count of Urdu is : ',languages.count('Urdu'))\n",
    "print('Index of English is : ',languages.index(\"English\"))\n",
    "languages.insert(2,'Pashto')\n",
    "print(\"After Insert Pashto it becomes : \",languages)\n",
    "print(\"Popped Element is : \",languages.pop())\n",
    "print(\"Original One : \",languages)\n",
    "languages.remove(\"English\")\n",
    "print(\"After REmove : \",languages)\n",
    "\n",
    "languages.reverse()\n",
    "print(\"After Reverse : \",languages)\n",
    "\n",
    "languages.sort()\n",
    "print(\"After Reverse : \",languages)\n",
    "languages.sort(reverse=True)\n",
    "print(\"After sort in Reverse : \",languages)\n",
    "\n",
    "languages.extend(SameLanguage)\n",
    "print(\"After Extend : \",languages)\n",
    "\n",
    "languages.clear()\n",
    "print(\"After Clear : \",languages)\n",
    "\n",
    "\n"
   ]
  },
  {
   "cell_type": "markdown",
   "metadata": {},
   "source": [
    "<h1>Exercise 3-10: Intentional Error</h1>\n",
    "<h3>Task:</h3>\n",
    "If you haven’t received an index error in one of your programs yet, try to make one\n",
    "happen. Change an index in one of your programs to produce an index error. Make sure\n",
    "you correct the error before closing the program."
   ]
  },
  {
   "cell_type": "code",
   "execution_count": 11,
   "metadata": {},
   "outputs": [
    {
     "name": "stdout",
     "output_type": "stream",
     "text": [
      "Corrected access: English\n"
     ]
    }
   ],
   "source": [
    "languages = ['Urdu','English','English','Hindi','Punjabi']\n",
    "#print(languages[12])\n",
    "print(\"Corrected access:\", languages[2])\n"
   ]
  }
 ],
 "metadata": {
  "kernelspec": {
   "display_name": "Python 3",
   "language": "python",
   "name": "python3"
  },
  "language_info": {
   "codemirror_mode": {
    "name": "ipython",
    "version": 3
   },
   "file_extension": ".py",
   "mimetype": "text/x-python",
   "name": "python",
   "nbconvert_exporter": "python",
   "pygments_lexer": "ipython3",
   "version": "3.12.4"
  }
 },
 "nbformat": 4,
 "nbformat_minor": 2
}
