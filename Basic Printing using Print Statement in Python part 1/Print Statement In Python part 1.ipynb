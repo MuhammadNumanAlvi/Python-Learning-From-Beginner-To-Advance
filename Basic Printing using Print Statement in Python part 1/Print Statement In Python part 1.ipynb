{
 "cells": [
  {
   "cell_type": "markdown",
   "id": "a4a3b261-7a58-45e2-9d32-3c254b197182",
   "metadata": {},
   "source": [
    "<h1>1. Basic Printing:</h1>\n",
    "Write a Python script to print the phrase 'Hello, World!'."
   ]
  },
  {
   "cell_type": "code",
   "execution_count": 2,
   "id": "24407ca4-a754-4cd7-95e7-93827644cd53",
   "metadata": {},
   "outputs": [
    {
     "name": "stdout",
     "output_type": "stream",
     "text": [
      "Hello, World!\n"
     ]
    }
   ],
   "source": [
    "print ('Hello, World!')"
   ]
  },
  {
   "cell_type": "markdown",
   "id": "9e7148bf-2e88-453e-8bc1-219289d8854a",
   "metadata": {},
   "source": [
    "*Print your first name.*"
   ]
  },
  {
   "cell_type": "code",
   "execution_count": 4,
   "id": "df8405d3-5630-4347-b0ee-e2ab39d67438",
   "metadata": {},
   "outputs": [
    {
     "name": "stdout",
     "output_type": "stream",
     "text": [
      "Numan\n"
     ]
    }
   ],
   "source": [
    "print ('Numan')"
   ]
  },
  {
   "cell_type": "markdown",
   "id": "163b630f-92f2-4085-a622-d3f4b7ec7679",
   "metadata": {},
   "source": [
    "<h1>2. Printing Multiple Items:</h1>\n",
    "Print your first name and last name in a single print statement."
   ]
  },
  {
   "cell_type": "code",
   "execution_count": 6,
   "id": "baec29be-f453-4ad2-8b38-4bdf17cec7d7",
   "metadata": {},
   "outputs": [
    {
     "name": "stdout",
     "output_type": "stream",
     "text": [
      "Numan Alvi\n"
     ]
    }
   ],
   "source": [
    "print ('Numan Alvi')"
   ]
  },
  {
   "cell_type": "markdown",
   "id": "a6e827c5-4d1d-4ea6-a7c2-b68a6ad13214",
   "metadata": {},
   "source": [
    "*Print the numbers 1, 2, and 3 in a single print statement.*"
   ]
  },
  {
   "cell_type": "code",
   "execution_count": 8,
   "id": "bb327aed-5a1e-4363-bb6f-a00a62f6f380",
   "metadata": {},
   "outputs": [
    {
     "name": "stdout",
     "output_type": "stream",
     "text": [
      "1 2 3\n",
      "1 2 3\n"
     ]
    }
   ],
   "source": [
    "print (1,2,3)\n",
    "# Or We can print it like \n",
    "print('1 2 3')"
   ]
  },
  {
   "cell_type": "markdown",
   "id": "f5293e99-6d03-44a0-a032-e0a0349ef48b",
   "metadata": {},
   "source": [
    "<h1>3. Printing Special Characters:</h1>\n",
    "Here we will use the concept of escape sequence <br>\n",
    "Print a string that includes a newline character to display text on two lines.ld"
   ]
  },
  {
   "cell_type": "code",
   "execution_count": 10,
   "id": "d7e25b82-cd99-48c5-87a7-0823ba73fe0a",
   "metadata": {},
   "outputs": [
    {
     "name": "stdout",
     "output_type": "stream",
     "text": [
      "Hello\n",
      "World\n"
     ]
    }
   ],
   "source": [
    "print('Hello\\nWorld')"
   ]
  },
  {
   "cell_type": "markdown",
   "id": "1b372634-3ba5-4959-b24e-8283f602b8af",
   "metadata": {},
   "source": [
    "*Print a string that includes a tab character.*"
   ]
  },
  {
   "cell_type": "code",
   "execution_count": 12,
   "id": "bf48a628-5690-4416-b2d7-bc68784741a7",
   "metadata": {},
   "outputs": [
    {
     "name": "stdout",
     "output_type": "stream",
     "text": [
      "Hello\tWorld\n"
     ]
    }
   ],
   "source": [
    "print('Hello\\tWorld')"
   ]
  },
  {
   "cell_type": "markdown",
   "id": "5a1797af-b0bd-4548-bcf7-20f4506389a3",
   "metadata": {},
   "source": [
    "<h1>4. Using the sep Parameter:</h1>\n",
    "Print three different words separated by commas. For example: 'apple, banana, cherry'."
   ]
  },
  {
   "cell_type": "code",
   "execution_count": 14,
   "id": "2f0501fd-b691-4e08-b1b9-5e9168bfccbb",
   "metadata": {},
   "outputs": [
    {
     "name": "stdout",
     "output_type": "stream",
     "text": [
      "apple,banana,cherry\n"
     ]
    }
   ],
   "source": [
    "print (\"apple\",\"banana\",\"cherry\",sep=',')"
   ]
  },
  {
   "cell_type": "markdown",
   "id": "25ebc125-adba-4975-85e9-d8e77c637286",
   "metadata": {},
   "source": [
    "*Print three different numbers separated by hyphens. For example: '1-2-3'.*"
   ]
  },
  {
   "cell_type": "code",
   "execution_count": 16,
   "id": "8a2426d0-52d1-430d-b4ca-66410575775d",
   "metadata": {},
   "outputs": [
    {
     "name": "stdout",
     "output_type": "stream",
     "text": [
      "1-2-3\n"
     ]
    }
   ],
   "source": [
    "print (1,2,3,sep='-')"
   ]
  },
  {
   "cell_type": "markdown",
   "id": "04b83b2b-0ef1-4e5a-a650-44296ac0fc7b",
   "metadata": {},
   "source": [
    "<h1>5. Using the end Parameter:</h1>\n",
    "Print two words on the same line with a space in between. For example: 'Hello World'."
   ]
  },
  {
   "cell_type": "code",
   "execution_count": 18,
   "id": "b2ad976c-3c9a-4bfb-ad37-9f2761178b48",
   "metadata": {},
   "outputs": [
    {
     "name": "stdout",
     "output_type": "stream",
     "text": [
      "Hello World\n"
     ]
    }
   ],
   "source": [
    "print('Hello',end=' ')\n",
    "print('World')"
   ]
  },
  {
   "cell_type": "markdown",
   "id": "c5200113-9700-4d7e-bb99-21b927fb16db",
   "metadata": {},
   "source": [
    "*Print the numbers 1 and 2 on the same line without a space in between. For example: '12'.*"
   ]
  },
  {
   "cell_type": "code",
   "execution_count": 20,
   "id": "1ae67d08-6e6d-4d9f-a885-e5a84f06a9d5",
   "metadata": {},
   "outputs": [
    {
     "name": "stdout",
     "output_type": "stream",
     "text": [
      "12\n"
     ]
    }
   ],
   "source": [
    "print(1,end='')\n",
    "print(2)"
   ]
  },
  {
   "cell_type": "markdown",
   "id": "44bc5595-0fa8-43df-9fb7-3292c7bc0684",
   "metadata": {},
   "source": [
    "<h1>6. Escape Characters:</h1>\n",
    "Print a string that includes double quotes. For example: He said, \"Hello!\"."
   ]
  },
  {
   "cell_type": "code",
   "execution_count": 22,
   "id": "144ca92a-2381-444e-abbb-22b6c9c73f9a",
   "metadata": {},
   "outputs": [
    {
     "name": "stdout",
     "output_type": "stream",
     "text": [
      "He said, \"Hello!\"\n"
     ]
    }
   ],
   "source": [
    "print('He said, \"Hello!\"')"
   ]
  },
  {
   "cell_type": "markdown",
   "id": "b6d33fd8-f22a-4501-86b8-4eb83d5a30ae",
   "metadata": {},
   "source": [
    "*Print a backslash character. For example: This is a backslash: \\.*\n"
   ]
  },
  {
   "cell_type": "code",
   "execution_count": 24,
   "id": "f56bc8c9-0908-429c-a2fe-55f2b2356417",
   "metadata": {},
   "outputs": [
    {
     "name": "stdout",
     "output_type": "stream",
     "text": [
      "This is a backslash: \\\n"
     ]
    }
   ],
   "source": [
    "print('This is a backslash: \\\\')"
   ]
  },
  {
   "cell_type": "markdown",
   "id": "b84a5832-b633-4a20-9b82-a9b90593ca02",
   "metadata": {},
   "source": [
    "<h1>7. Combining Text and Numbers:</h1>\n",
    "Print your age alongside a descriptive message. For example: 'I am 20 years old'."
   ]
  },
  {
   "cell_type": "code",
   "execution_count": 26,
   "id": "cab1c5a1-7443-4776-86d5-0d9ffd08dfd1",
   "metadata": {},
   "outputs": [
    {
     "name": "stdout",
     "output_type": "stream",
     "text": [
      "I am 20 years old\n"
     ]
    }
   ],
   "source": [
    "print('I am 20 years old')"
   ]
  },
  {
   "cell_type": "markdown",
   "id": "08da0c86-ce1b-44f1-8bf9-038f1d3b6f93",
   "metadata": {},
   "source": [
    "*Print a number and a string together. For example: 'The number is 5'.*"
   ]
  },
  {
   "cell_type": "code",
   "execution_count": 28,
   "id": "73321f02-b19f-42ad-923e-9f8e9720a477",
   "metadata": {},
   "outputs": [
    {
     "name": "stdout",
     "output_type": "stream",
     "text": [
      "The number is 5\n"
     ]
    }
   ],
   "source": [
    "print('The number is 5')"
   ]
  },
  {
   "cell_type": "markdown",
   "id": "2eb53a72-1656-453d-9592-0095638c5790",
   "metadata": {},
   "source": [
    "<h1>8. Basic Loop for Printing:</h1>\n",
    "Print the numbers 1 to 5, each on a new line using separate print statements."
   ]
  },
  {
   "cell_type": "code",
   "execution_count": 30,
   "id": "36b5aa04-90b1-45ac-a048-3c8338a4dea3",
   "metadata": {},
   "outputs": [
    {
     "name": "stdout",
     "output_type": "stream",
     "text": [
      "1\n",
      "2\n",
      "3\n",
      "4\n",
      "5\n"
     ]
    }
   ],
   "source": [
    "print(1)\n",
    "print(2)\n",
    "print(3)\n",
    "print(4)\n",
    "print(5)"
   ]
  }
 ],
 "metadata": {
  "kernelspec": {
   "display_name": "Python 3 (ipykernel)",
   "language": "python",
   "name": "python3"
  },
  "language_info": {
   "codemirror_mode": {
    "name": "ipython",
    "version": 3
   },
   "file_extension": ".py",
   "mimetype": "text/x-python",
   "name": "python",
   "nbconvert_exporter": "python",
   "pygments_lexer": "ipython3",
   "version": "3.11.7"
  }
 },
 "nbformat": 4,
 "nbformat_minor": 5
}
