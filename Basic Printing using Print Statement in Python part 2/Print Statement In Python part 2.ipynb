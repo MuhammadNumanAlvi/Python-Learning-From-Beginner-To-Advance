{
 "cells": [
  {
   "cell_type": "markdown",
   "metadata": {},
   "source": [
    "******************** <h1> Python Basics </h1> ********************"
   ]
  },
  {
   "cell_type": "markdown",
   "metadata": {},
   "source": [
    "<h1>1. Simple Message</h1>\n",
    "Task: Assign a message to a variable and then print that message."
   ]
  },
  {
   "cell_type": "code",
   "execution_count": 3,
   "metadata": {},
   "outputs": [
    {
     "name": "stdout",
     "output_type": "stream",
     "text": [
      "Learn Python\n"
     ]
    }
   ],
   "source": [
    "# Simple Message\n",
    "message : str = \"Learn Python\"\n",
    "print(message)"
   ]
  },
  {
   "cell_type": "markdown",
   "metadata": {},
   "source": [
    "<h1>2. Simple Messages</h1>\n",
    "Tasks:<br>\n",
    "● Assign a message to a variable and print that message.<br>\n",
    "● Change the value of the variable to a new message, and print the new message."
   ]
  },
  {
   "cell_type": "code",
   "execution_count": 5,
   "metadata": {},
   "outputs": [
    {
     "name": "stdout",
     "output_type": "stream",
     "text": [
      "Coding Sekho\n"
     ]
    }
   ],
   "source": [
    "# Simple Messages\n",
    "message = \"Coding Sekho\"\n",
    "print(message)"
   ]
  },
  {
   "cell_type": "markdown",
   "metadata": {},
   "source": [
    "<h1>3. Personal Message</h1>\n",
    "Task:<br>\n",
    "● Use a variable to represent a person’s name.<br>\n",
    "● Print a message to that person, such as, “Hello Eric, would you like to learn some\n",
    "Python today?”"
   ]
  },
  {
   "cell_type": "code",
   "execution_count": 6,
   "metadata": {},
   "outputs": [
    {
     "name": "stdout",
     "output_type": "stream",
     "text": [
      "Hello , Numan would you like to learn some Python today? \n"
     ]
    }
   ],
   "source": [
    "#Personal Message\n",
    "name = \"Numan\"\n",
    "print(f\"Hello , {name} would you like to learn some Python today? \")"
   ]
  },
  {
   "cell_type": "markdown",
   "metadata": {},
   "source": [
    "<h1>4. Name Cases</h1>\n",
    "Task:<br>\n",
    "● Use a variable to represent a person’s name.<br>\n",
    "● Print the person’s name in lowercase, uppercase, and title case."
   ]
  },
  {
   "cell_type": "code",
   "execution_count": 7,
   "metadata": {},
   "outputs": [
    {
     "name": "stdout",
     "output_type": "stream",
     "text": [
      "In Upper Case : ALVI\n",
      "In Lower Case : alvi\n",
      "In Title Case : Alvi\n"
     ]
    }
   ],
   "source": [
    "#Name Cases\n",
    "name1 = \"Alvi\"\n",
    "print(f\"In Upper Case : {name1.upper()}\")\n",
    "print(f\"In Lower Case : {name1.lower()}\")\n",
    "print(f\"In Title Case : {name1.title()}\")"
   ]
  },
  {
   "cell_type": "markdown",
   "metadata": {},
   "source": [
    "<h1>5. Famous Quote</h1>\n",
    "Task:<br>\n",
    "● Find a quote from a famous person you admire.<br>\n",
    "● Print the quote and the name of its author.<br>\n",
    "The output should look something like the following:<br>\n",
    "Albert Einstein once said, “A person who never made a mistake never\n",
    "tried anything new.”"
   ]
  },
  {
   "cell_type": "code",
   "execution_count": 8,
   "metadata": {},
   "outputs": [
    {
     "name": "stdout",
     "output_type": "stream",
     "text": [
      "Steve Jobs once said, \"If today were the last day of your life, would you want to do what you are about to do today?.\"\n"
     ]
    }
   ],
   "source": [
    "#Famous Quotes\n",
    "print ('Steve Jobs once said, \"If today were the last day of your life, would you want to do what you are about to do today?.\"')"
   ]
  },
  {
   "cell_type": "markdown",
   "metadata": {},
   "source": [
    "<h1>6. Famous Quote 2</h1>\n",
    "Task:<br>\n",
    "● Use a variable called famous_person to represent the famous person’s name.<br>\n",
    "● Compose the message and represent it with a variable called message.<br>\n",
    "● Print the message."
   ]
  },
  {
   "cell_type": "code",
   "execution_count": 9,
   "metadata": {},
   "outputs": [
    {
     "name": "stdout",
     "output_type": "stream",
     "text": [
      "Steve Jobs once said , \"Be the change that you wish to see in the world.\"\n"
     ]
    }
   ],
   "source": [
    "#famous Quote 2\n",
    "famous_person : str = \"Steve Jobs\"\n",
    "message : str = \"Be the change that you wish to see in the world.\"\n",
    "print(f'{famous_person} once said , \"{message}\"')"
   ]
  },
  {
   "cell_type": "markdown",
   "metadata": {},
   "source": [
    "<h1>7. Stripping Names</h1>\n",
    "Task:<br>\n",
    "● Use a variable to represent a person’s name, and include some whitespace characters\n",
    "at the beginning and end of the name.<br>\n",
    "● Make sure you use each character combination, \\t and \\n, at least once.<br>\n",
    "● Print the name once, so the whitespace around the name is displayed.<br>\n",
    "● Print the name using each of the three stripping functions: lstrip(), rstrip(), and\n",
    "strip()."
   ]
  },
  {
   "cell_type": "code",
   "execution_count": 10,
   "metadata": {},
   "outputs": [
    {
     "name": "stdout",
     "output_type": "stream",
     "text": [
      "With white spaces\n",
      "\"\n",
      "\t\n",
      "   Numan Alvi   \t\n",
      "\t\n",
      "\"\n",
      "-----------------\n",
      "Using lstrip() \n",
      "\"Numan Alvi   \t\n",
      "\t\n",
      "\"\n",
      "-----------------\n",
      "Using rstrip() \n",
      "\"\n",
      "\t\n",
      "   Numan Alvi\"\n",
      "-----------------\n",
      "Using strip() \n",
      "\"Numan Alvi\"\n"
     ]
    }
   ],
   "source": [
    "#stripping name \n",
    "Person_Name = \"\\n\\t\\n   Numan Alvi   \\t\\n\\t\\n\"\n",
    "print(\"With white spaces\")\n",
    "print(f'\"{Person_Name}\"')\n",
    "print (\"-----------------\")\n",
    "print(\"Using lstrip() \")\n",
    "print(f'\"{Person_Name.lstrip()}\"')\n",
    "\n",
    "print (\"-----------------\")\n",
    "print(\"Using rstrip() \")\n",
    "print(f'\"{Person_Name.rstrip()}\"')\n",
    "\n",
    "print (\"-----------------\")\n",
    "print(\"Using strip() \")\n",
    "print(f'\"{Person_Name.strip()}\"')"
   ]
  },
  {
   "cell_type": "markdown",
   "metadata": {},
   "source": [
    "<h1>8. Variable Sum </h1>\n",
    "Task: <br>Assign the values 5, 10, and 15 to three variables x, y, and z. Print their sum."
   ]
  },
  {
   "cell_type": "code",
   "execution_count": 11,
   "metadata": {},
   "outputs": [
    {
     "name": "stdout",
     "output_type": "stream",
     "text": [
      "\n",
      "-----------------\n",
      "Sum : 30\n",
      "-- OR --\n",
      "Sum 30\n"
     ]
    }
   ],
   "source": [
    "#Variable Sum\n",
    "x :int=5 \n",
    "y :int=10\n",
    "z :int=15\n",
    "Sum = x+y+z\n",
    "print (\"\\n-----------------\")\n",
    "print (f\"Sum : {x+y+z}\")\n",
    "print (\"-- OR --\")\n",
    "print (\"Sum\",Sum)"
   ]
  },
  {
   "cell_type": "markdown",
   "metadata": {},
   "source": [
    "<h1>9. Variable Swap</h1>\n",
    "Task:<br> Swap the values of two variables a and b. Print the values before and after the swap."
   ]
  },
  {
   "cell_type": "code",
   "execution_count": 24,
   "metadata": {},
   "outputs": [
    {
     "name": "stdout",
     "output_type": "stream",
     "text": [
      "Before Swap values are : \n",
      " a = 10 \n",
      " b = 13\n",
      "After Swap values are : \n",
      " a = 13 \n",
      " b = 10\n",
      "----- OR ------\n",
      "Before Swap values are : \n",
      " a = 10 \n",
      " b = 13\n",
      "After Swap values are : \n",
      " a = 13 \n",
      " b = 10\n"
     ]
    }
   ],
   "source": [
    "#Variable Swap\n",
    "a :int=10\n",
    "b :int=13\n",
    "c :int\n",
    "print(\"Before Swap values are : \\n a =\",a,\"\\n b =\",b)\n",
    "c=a\n",
    "a=b\n",
    "b=c\n",
    "print(\"After Swap values are : \\n a =\",a,\"\\n b =\",b)\n",
    "print(\"----- OR ------\")\n",
    "a :int=10\n",
    "b :int=13\n",
    "print(\"Before Swap values are : \\n a =\",a,\"\\n b =\",b)\n",
    "a,b = b,a\n",
    "print(\"After Swap values are : \\n a =\",a,\"\\n b =\",b)\n"
   ]
  },
  {
   "cell_type": "markdown",
   "metadata": {},
   "source": [
    "<h1>10. Favorite Color</h1>\n",
    "Task:<br> Create a variable with your favorite color and print it. Then change the variable name to\n",
    "something else and print the color again."
   ]
  },
  {
   "cell_type": "code",
   "execution_count": 13,
   "metadata": {},
   "outputs": [
    {
     "name": "stdout",
     "output_type": "stream",
     "text": [
      "Fav color is : Blue\n",
      "After change variable name color is : Blue \n"
     ]
    }
   ],
   "source": [
    "# Favorite Color\n",
    "Fav_color = \"Blue\"\n",
    "print(f\"Fav color is :\",Fav_color)\n",
    "color = Fav_color\n",
    "print(f\"After change variable name color is : {color} \")"
   ]
  },
  {
   "cell_type": "markdown",
   "metadata": {},
   "source": [
    "<h1>11. Changing Pet Name</h1>\n",
    "Task:<br> Create a variable pet_name and set it to \"Buddy\". Change the value of pet_name to\n",
    "\"Max\" and print the new value."
   ]
  },
  {
   "cell_type": "code",
   "execution_count": 14,
   "metadata": {},
   "outputs": [
    {
     "name": "stdout",
     "output_type": "stream",
     "text": [
      "Old Value = Buddy\n",
      "New Value = Max\n"
     ]
    }
   ],
   "source": [
    "# Changing Pet Name\n",
    "pet_name =\"Buddy\"\n",
    "print(\"Old Value =\",pet_name)\n",
    "pet_name = \"Max\"\n",
    "print(\"New Value =\",pet_name)"
   ]
  },
  {
   "cell_type": "markdown",
   "metadata": {},
   "source": [
    "<h1>12. Observing Name Error</h1>\n",
    "Task:<br> Assign the value \"Sunshine\" to a variable and print it. Then, mistakenly try to print a\n",
    "variable with a different name (like sunsine) and observe the error."
   ]
  },
  {
   "cell_type": "code",
   "execution_count": 15,
   "metadata": {},
   "outputs": [
    {
     "name": "stdout",
     "output_type": "stream",
     "text": [
      "string is : Sunshine\n"
     ]
    },
    {
     "ename": "NameError",
     "evalue": "name 'sunshine' is not defined",
     "output_type": "error",
     "traceback": [
      "\u001b[1;31m---------------------------------------------------------------------------\u001b[0m",
      "\u001b[1;31mNameError\u001b[0m                                 Traceback (most recent call last)",
      "Cell \u001b[1;32mIn[15], line 4\u001b[0m\n\u001b[0;32m      2\u001b[0m var \u001b[38;5;241m=\u001b[39m\u001b[38;5;124m\"\u001b[39m\u001b[38;5;124mSunshine\u001b[39m\u001b[38;5;124m\"\u001b[39m\n\u001b[0;32m      3\u001b[0m \u001b[38;5;28mprint\u001b[39m (\u001b[38;5;124m\"\u001b[39m\u001b[38;5;124mstring is :\u001b[39m\u001b[38;5;124m\"\u001b[39m,var)\n\u001b[1;32m----> 4\u001b[0m \u001b[38;5;28mprint\u001b[39m (\u001b[38;5;124m\"\u001b[39m\u001b[38;5;124mstring is :\u001b[39m\u001b[38;5;124m\"\u001b[39m,\u001b[43msunshine\u001b[49m)\n",
      "\u001b[1;31mNameError\u001b[0m: name 'sunshine' is not defined"
     ]
    }
   ],
   "source": [
    "# Observing Name Error\n",
    "var =\"Sunshine\"\n",
    "print (\"string is :\",var)\n",
    "print (\"string is :\",sunshine)"
   ]
  },
  {
   "cell_type": "markdown",
   "metadata": {},
   "source": [
    "<h1>13. Reassigning Score</h1>\n",
    "Task:<br> Assign the value 100 to a variable score and print it. Then assign a new value to score\n",
    "and print it again."
   ]
  },
  {
   "cell_type": "code",
   "execution_count": 16,
   "metadata": {},
   "outputs": [
    {
     "name": "stdout",
     "output_type": "stream",
     "text": [
      "Assign 100 to variable score\n",
      "Assign new value is : 50\n"
     ]
    }
   ],
   "source": [
    "#Reassigning Score\n",
    "score = 100 \n",
    "print(\"Assign 100 to variable score\")\n",
    "score = 50\n",
    "print(\"Assign new value is :\",score)"
   ]
  },
  {
   "cell_type": "markdown",
   "metadata": {},
   "source": [
    "<h1>14. City Name</h1>\n",
    "Task: <br>Create a string variable city and assign it the name of a city you like. Print the city\n",
    "name."
   ]
  },
  {
   "cell_type": "code",
   "execution_count": 17,
   "metadata": {},
   "outputs": [
    {
     "name": "stdout",
     "output_type": "stream",
     "text": [
      "City Name is : Lahore\n"
     ]
    }
   ],
   "source": [
    "#City Name\n",
    "city = \"Lahore\"\n",
    "print (\"City Name is :\",city)"
   ]
  },
  {
   "cell_type": "markdown",
   "metadata": {},
   "source": [
    "<h1>15. Title Case Text</h1>\n",
    "Task:<br> Create a variable text with the value \"python programming\" and print it in title case."
   ]
  },
  {
   "cell_type": "code",
   "execution_count": 18,
   "metadata": {},
   "outputs": [
    {
     "name": "stdout",
     "output_type": "stream",
     "text": [
      "Original Case is : python programming \n",
      " Title Case is : Python Programming\n"
     ]
    }
   ],
   "source": [
    "#Title Case Text\n",
    "text = \"python programming\"\n",
    "print(f\"Original Case is : {text} \\n Title Case is : {text.title()}\")"
   ]
  },
  {
   "cell_type": "markdown",
   "metadata": {},
   "source": [
    "<h1>16. Lowercase Conversion </h1>\n",
    "Task:<br> Assign a string with mixed cases to a variable and print it in all lowercase letters."
   ]
  },
  {
   "cell_type": "code",
   "execution_count": 19,
   "metadata": {},
   "outputs": [
    {
     "name": "stdout",
     "output_type": "stream",
     "text": [
      "Original Case is : PaKisTan \n",
      " Lower Case is : pakistan\n"
     ]
    }
   ],
   "source": [
    "# Lowercase Conversion\n",
    "Lconversion = \"PaKisTan\"\n",
    "print(f\"Original Case is : {Lconversion} \\n Lower Case is : {Lconversion.lower()}\")"
   ]
  },
  {
   "cell_type": "markdown",
   "metadata": {},
   "source": [
    "<h1>17. Uppercase Conversion </h1>\n",
    "Task:<br> Assign a string with mixed cases to a variable and print it in all uppercase letters."
   ]
  },
  {
   "cell_type": "code",
   "execution_count": 20,
   "metadata": {},
   "outputs": [
    {
     "name": "stdout",
     "output_type": "stream",
     "text": [
      "Original Case is : PaKisTan \n",
      " Upper Case is : PAKISTAN\n"
     ]
    }
   ],
   "source": [
    "# Uppercase Conversion\n",
    "U_Case_conversion = \"PaKisTan\"\n",
    "print(f\"Original Case is : {U_Case_conversion} \\n Upper Case is : {U_Case_conversion.upper()}\")"
   ]
  },
  {
   "cell_type": "markdown",
   "metadata": {},
   "source": [
    "<h1>18. Current Temperature</h1>\n",
    "Task:<br> Create a variable temperature with the value 25. Print \"The current temperature is\n",
    "[temperature] degrees.\" using the variable."
   ]
  },
  {
   "cell_type": "code",
   "execution_count": 21,
   "metadata": {},
   "outputs": [
    {
     "name": "stdout",
     "output_type": "stream",
     "text": [
      "The current temperature is 25 degrees.\n"
     ]
    }
   ],
   "source": [
    "#Current Temperature\n",
    "temperature = 25\n",
    "print (f\"The current temperature is {temperature} degrees.\")"
   ]
  },
  {
   "cell_type": "markdown",
   "metadata": {},
   "source": [
    "<h1>19. Printing a Poem</h1>\n",
    "Task:<br> Create a variable poem with a short poem that has multiple lines. Print the poem with\n",
    "each line starting on a new line."
   ]
  },
  {
   "cell_type": "code",
   "execution_count": 22,
   "metadata": {},
   "outputs": [
    {
     "name": "stdout",
     "output_type": "stream",
     "text": [
      "The stars above, they softly gleam,  \n",
      "A thousand whispers in a dream.  \n",
      "The moonlight dances on the sea,  \n",
      "A gentle wave, a melody.  \n",
      "\n",
      "The night is calm, the world at rest,  \n",
      "A silent breath, a heart confessed.  \n",
      "In twilight’s glow, the day is done,  \n",
      "And soon will rise the morning sun.\n"
     ]
    }
   ],
   "source": [
    "#Poem\n",
    "poem = \"\"\"The stars above, they softly gleam,  \n",
    "A thousand whispers in a dream.  \n",
    "The moonlight dances on the sea,  \n",
    "A gentle wave, a melody.  \n",
    "\n",
    "The night is calm, the world at rest,  \n",
    "A silent breath, a heart confessed.  \n",
    "In twilight’s glow, the day is done,  \n",
    "And soon will rise the morning sun.\"\"\"\n",
    "\n",
    "print (poem)"
   ]
  }
 ],
 "metadata": {
  "kernelspec": {
   "display_name": "Python 3",
   "language": "python",
   "name": "python3"
  },
  "language_info": {
   "codemirror_mode": {
    "name": "ipython",
    "version": 3
   },
   "file_extension": ".py",
   "mimetype": "text/x-python",
   "name": "python",
   "nbconvert_exporter": "python",
   "pygments_lexer": "ipython3",
   "version": "3.12.4"
  }
 },
 "nbformat": 4,
 "nbformat_minor": 2
}
